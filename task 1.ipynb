{
 "cells": [
  {
   "cell_type": "markdown",
   "metadata": {},
   "source": [
    "Задание 1.\n",
    "\n",
    "Студент магистратуры обычно спит ночью XX часов и устраивает себе днем тихий час на YY минут. Определите, сколько всего студент спит в сутки (если вообще спит). Программа должна принимать значения XX и YY из стандартного потока ввода (функция input), результат надо выводить в стандартный поток вывода (функция print).\n",
    "\n",
    "Sample Input 1:\n",
    "7\n",
    "30\n",
    "Sample Output 1:\n",
    "450\n",
    "\n",
    "Sample Input 2:\n",
    "0\n",
    "42\n",
    "Sample Output 2:\n",
    "42"
   ]
  },
  {
   "cell_type": "code",
   "execution_count": 2,
   "metadata": {},
   "outputs": [
    {
     "name": "stdout",
     "output_type": "stream",
     "text": [
      "Ошибочный ввод: Введите числовое значение\n"
     ]
    }
   ],
   "source": [
    "# функция переводит введенные значения в тип int и рассчитывает время сна\n",
    "# отлавливаются ошибки неверного ввода\n",
    "def student_sleeping(x, y):\n",
    "    try:\n",
    "        x1 = int(x)\n",
    "        y1 = int(y)\n",
    "\n",
    "        if x1 > 24:\n",
    "            print('Ошибочный ввод: В сутках меньше 24 часов')\n",
    "            return None\n",
    "\n",
    "        if y1 > 24*60:\n",
    "            print(f'Ошибочный ввод: В сутках меньше {24*60} минут')\n",
    "            return None\n",
    "\n",
    "        z = x1*60 + y1\n",
    "\n",
    "        if z > 24*60:\n",
    "            print(f'Ошибочный ввод: Результат должен быть меньше {24*60} минут')\n",
    "            return None\n",
    "\n",
    "        return z\n",
    "\n",
    "    except:\n",
    "        print('Ошибочный ввод: Введите целое числовое значение')\n",
    "        return None\n",
    "\n",
    "a = input('Введите время ночного сна в часах в формате XX:')\n",
    "b = input('Введите время дневного сна в минутах в формате YY:')\n",
    "\n",
    "student_sleeping(a, b)\n",
    "\n"
   ]
  },
  {
   "cell_type": "markdown",
   "metadata": {},
   "source": [
    "****\n",
    "**Задание 2**\n",
    "\n",
    "Студент МФТИ каждый день ложится спать ровно в полночь и недавно узнал, что оптимальное время для его сна составляет XX минут. Он хочет поставить себе будильник так, чтобы он прозвенел ровно через XX минут после полуночи, однако для этого необходимо указать время сигнала в формате часы, минуты. Помогите студенту определить, на какое время завести будильник.\n",
    "Часы и минуты в выводе программы должны располагаться на разных строках\n",
    "\n",
    "```\n",
    "Sample Input 1:\n",
    "480\n",
    "Sample Output 1:\n",
    "8\n",
    "0\n",
    "\n",
    "Sample Input 2:\n",
    "512\n",
    "Sample Output 2:\n",
    "8\n",
    "32\n",
    "```\n"
   ]
  },
  {
   "cell_type": "code",
   "execution_count": 6,
   "metadata": {},
   "outputs": [
    {
     "data": {
      "text/plain": [
       "'01:40'"
      ]
     },
     "execution_count": 6,
     "metadata": {},
     "output_type": "execute_result"
    }
   ],
   "source": [
    "# функция переводит введенное значение в тип int и рассчитывает время звонка будильника от 0:00\n",
    "# отлавливаются ошибки неверного ввода\n",
    "def optimal_student_sleeping(x):\n",
    "    import datetime\n",
    "    try:\n",
    "        x1 = int(x)\n",
    "\n",
    "        if x1 > 24*60:\n",
    "            print(f'Ошибочный ввод: В сутках меньше {24*60} минут')\n",
    "            return None\n",
    "\n",
    "        hour_ = x1//60\n",
    "        minute_ = x1%60\n",
    "\n",
    "        z = datetime.time(hour=hour_, minute=minute_)\n",
    "\n",
    "        return z.strftime('%H:%M')\n",
    "\n",
    "    except:\n",
    "        print('Ошибочный ввод: Введите целое числовое значение')\n",
    "        return None\n",
    "\n",
    "a = input('Введите оптимальное время ночного сна в минутах:')\n",
    "\n",
    "optimal_student_sleeping(a)"
   ]
  },
  {
   "cell_type": "markdown",
   "metadata": {},
   "source": [
    "****\n",
    "**Задание 3**\n",
    "\n",
    "Студент программы “Анализ данных в медицине” узнал, что ему для сна надо XX минут. В отличие от студента МФТИ, наш студент ложится спать после полуночи в HH часов и MM минут. Помогите определить, на какое время ему поставить будильник, чтобы он прозвенел ровно через XX минут после того, как он ляжет спать.\n",
    "На стандартный ввод, каждое в своей строке, подаются значения XX, HH и MM. Гарантируется, что студент программы “Fнализ данных в медицине” должен проснуться в тот же день, что и заснуть. Программа должна выводить время, на которое нужно поставить будильник: в первой строке часы, во второй — минуты.\n",
    "\n",
    "```\n",
    "Sample Input 1:\n",
    "480\n",
    "1\n",
    "2\n",
    "Sample Output 1:\n",
    "9\n",
    "2\n",
    "Sample Input 2:\n",
    "475\n",
    "1\n",
    "55\n",
    "Sample Output 2:\n",
    "9\n",
    "50\n",
    "\n",
    "```"
   ]
  },
  {
   "cell_type": "code",
   "execution_count": 28,
   "metadata": {},
   "outputs": [
    {
     "data": {
      "text/plain": [
       "'20:10'"
      ]
     },
     "execution_count": 28,
     "metadata": {},
     "output_type": "execute_result"
    }
   ],
   "source": [
    "# функция переводит введенное значение в тип int и рассчитывает время звонка будильника от заданного времени\n",
    "# отлавливаются ошибки неверного ввода\n",
    "def optimal_medic_sleeping(x,h,m):\n",
    "    from datetime import datetime, date, timedelta, time \n",
    "    try:\n",
    "        x1 = int(x)\n",
    "        h1 = int(h)\n",
    "        m1 = int(m)\n",
    "\n",
    "        if x1 > 24*60:\n",
    "            print(f'Ошибочный ввод: В сутках меньше {24*60} минут')\n",
    "            return None\n",
    "\n",
    "        if h1 > 24:\n",
    "            print('Ошибочный ввод: В сутках меньше 24 часов')\n",
    "            return None\n",
    "\n",
    "        if m1 > 60:\n",
    "            print('Ошибочный ввод: В часе меньше 60 минут')\n",
    "            return None\n",
    "\n",
    "        go_sleep_time = time(hour=h1, minute=m1)\n",
    "        \n",
    "        hour_ = x1//60\n",
    "        minute_ = x1%60\n",
    "\n",
    "        sleeping_time = timedelta(hours=hour_,minutes=minute_)\n",
    "\n",
    "        z = datetime.combine(date.today(),go_sleep_time) + sleeping_time\n",
    "      \n",
    "        return z.strftime('%H:%M')\n",
    "\n",
    "    except:\n",
    "        print('Ошибочный ввод: Введите целое числовое значение')\n",
    "        return None\n",
    "\n",
    "a = input('Введите оптимальное время ночного сна в минутах:')\n",
    "b = input('Введите час отхода ко сну:')\n",
    "c = input('Введите минуту отхода ко сну:')\n",
    "\n",
    "optimal_medic_sleeping(a,b,c)"
   ]
  },
  {
   "cell_type": "markdown",
   "metadata": {},
   "source": [
    "Задание 4\n",
    "\n",
    "Напишите программу, на вход которой подается список чисел одной строкой. Программа должна для каждого элемента этого списка вывести сумму двух его соседей. Для элементов списка, являющихся крайними, одним из соседей считается элемент, находящийся на противоположном конце этого списка. Например, если на вход подаётся список \"1 3 5 6 10\", то на выход ожидается список \"13 6 9 15 7\" (без кавычек).\n",
    "\n",
    "Если на вход пришло только одно число, надо вывести его же. Вывод должен содержать одну строку с числами нового списка, разделенными пробелом.\n",
    "\n",
    "Sample Input 1:\n",
    "1 3 5 6 10\n",
    "Sample Output 1:\n",
    "13 6 9 15 7\n",
    "Sample Input 2:\n",
    "10\n",
    "Sample Output 2:\n",
    "10"
   ]
  },
  {
   "cell_type": "code",
   "execution_count": 47,
   "metadata": {},
   "outputs": [
    {
     "data": {
      "text/plain": [
       "'20 20'"
      ]
     },
     "execution_count": 47,
     "metadata": {},
     "output_type": "execute_result"
    }
   ],
   "source": [
    "# функция получает строку из целых чисел и возвращает суммы соседних элементов\n",
    "def neighbour_sum(x):\n",
    "    z = []\n",
    "    try:\n",
    "        x1 = x.split()\n",
    "        x1 = list(map(int, x1))\n",
    "\n",
    "        if len(x1) == 1:\n",
    "            return(x1[0])\n",
    "    \n",
    "        for i in range(len(x1)-1):\n",
    "            z.append(x1[i-1]+x1[i+1])\n",
    "        z.append(x1[-2] + x1[0])\n",
    "    except:\n",
    "        print('Ошибочный ввод. Требуются целые числа через пробел')\n",
    "        return None\n",
    "\n",
    "    return ' '.join(str(i) for i in z)\n",
    "\n",
    "    \n",
    "a = input('Введите целые числа через пробел:')\n",
    "\n",
    "neighbour_sum(a)"
   ]
  },
  {
   "cell_type": "markdown",
   "metadata": {},
   "source": [
    "Задание 5\n",
    "\n",
    "Напишите программу, которая принимает на вход список чисел в одной строке и выводит на экран в одну строку значения, которые встречаются в нём более одного раза.\n",
    "\n",
    "Для решения задачи может пригодиться метод sort списка (а может и не пригодиться).\n",
    "\n",
    "Выводимые числа не должны повторяться, порядок их вывода может быть произвольным. Разделитель чисел - пробел"
   ]
  },
  {
   "cell_type": "code",
   "execution_count": 52,
   "metadata": {},
   "outputs": [
    {
     "data": {
      "text/plain": [
       "'10 12 14'"
      ]
     },
     "execution_count": 52,
     "metadata": {},
     "output_type": "execute_result"
    }
   ],
   "source": [
    "# функция получает строку из целых чисел и возвращает числа, повторяющиеся более одного раза\n",
    "def doubled_number(x):\n",
    "    z = []\n",
    "    try:\n",
    "        x1 = x.split()\n",
    "        x1 = list(map(int, x1))\n",
    "      \n",
    "        for i in x1:\n",
    "            counter = 0\n",
    "            for j in x1:\n",
    "                if j == i:\n",
    "                    counter += 1\n",
    "            if counter > 1 and i not in z:\n",
    "                z.append(i)\n",
    "                \n",
    "    except:\n",
    "        print('Ошибочный ввод. Требуются целые числа через пробел')\n",
    "        return None\n",
    "\n",
    "    return ' '.join(str(i) for i in z)\n",
    "\n",
    "    \n",
    "a = input('Введите целые числа через пробел:')\n",
    "\n",
    "doubled_number(a)"
   ]
  },
  {
   "cell_type": "markdown",
   "metadata": {},
   "source": [
    "Задание 6\n",
    "GC-состав является важной характеристикой геномных последовательностей и определяется как процентное соотношение суммы всех гуанинов и цитозинов к общему числу нуклеиновых оснований в геномной последовательности.\n",
    "\n",
    "Напишите программу, которая вычисляет процентное содержание символов G (гуанин) и C (цитозин) в введенной строке (программа не должна зависеть от регистра вводимых символов). Например, в строке \"acggtgttat\" процентное содержание символов G и C равно 4*0.1 * 100 = 40.0, где 4 - это количество символов G и C, а 10 - это длина строки."
   ]
  },
  {
   "cell_type": "code",
   "execution_count": 59,
   "metadata": {},
   "outputs": [
    {
     "data": {
      "text/plain": [
       "50.0"
      ]
     },
     "execution_count": 59,
     "metadata": {},
     "output_type": "execute_result"
    }
   ],
   "source": [
    "# функция считает процентное количество симвлов g и c в строке\n",
    "def GC_counter(s):\n",
    "    s = s.lower()\n",
    "    i = 0\n",
    "\n",
    "    for letter in s:\n",
    "        if letter == 'g' or letter == 'c':\n",
    "            i += 1\n",
    "    \n",
    "    return i/len(s)*100\n",
    "\n",
    "a = input('Введите строку:')\n",
    "\n",
    "GC_counter(a)"
   ]
  },
  {
   "cell_type": "markdown",
   "metadata": {},
   "source": [
    "****\n",
    "**Задание 7**\n",
    "\n",
    "Узнав, что ДНК не является случайной строкой, только что поступившие в МФТИ студенты группы аналитиков данных предложили использовать алгоритм сжатия, который сжимает повторяющиеся символы в строке.\n",
    "Кодирование осуществляется следующим образом:\n",
    "s = 'aaaabbсaa' преобразуется в 'a4b2с1a2', то есть группы одинаковых символов исходной строки заменяются на этот символ и количество его повторений в этой позиции строки.\n",
    "\n",
    "Напишите программу, которая считывает строку, кодирует её предложенным алгоритмом и выводит закодированную последовательность на стандартный вывод. Кодирование должно учитывать регистр символов."
   ]
  },
  {
   "cell_type": "code",
   "execution_count": 66,
   "metadata": {},
   "outputs": [
    {
     "data": {
      "text/plain": [
       "'a1b2c3d4e1'"
      ]
     },
     "execution_count": 66,
     "metadata": {},
     "output_type": "execute_result"
    }
   ],
   "source": [
    "#функция считает количество повтоояющихся символов и выводит в формате символ-количество\n",
    "def compress_symbols(s):\n",
    "\n",
    "    i = 0\n",
    "    new_str = ''\n",
    "\n",
    "    for c in range(len(s)):\n",
    "        if c == len(s)-1:\n",
    "            new_str += (s[c] + str(i+1))\n",
    "        elif s[c] == s[c+1]:\n",
    "            i += 1\n",
    "        else:\n",
    "            new_str += (s[c] + str(i+1))\n",
    "            i = 0\n",
    "    \n",
    "    return new_str\n",
    "\n",
    "a = input('Введите строку:')\n",
    "\n",
    "compress_symbols(a)"
   ]
  },
  {
   "cell_type": "markdown",
   "metadata": {},
   "source": [
    "**Задание 8**\n",
    "\n",
    "Напишите программу, которая считывает с консоли числа (по одному в строке) до тех пор, пока сумма введённых чисел не будет равна 0 и сразу после этого выводит сумму квадратов всех считанных чисел.\n",
    "Гарантируется, что в какой-то момент сумма введённых чисел окажется равной 0, после этого считывание продолжать не нужно.\n",
    "В примере мы считываем числа 1, -3, 5, -6, -10, 13; в этот момент замечаем, что сумма этих чисел равна нулю и выводим сумму их квадратов, не обращая внимания на то, что остались ещё не прочитанные значения."
   ]
  },
  {
   "cell_type": "code",
   "execution_count": 68,
   "metadata": {},
   "outputs": [
    {
     "name": "stdout",
     "output_type": "stream",
     "text": [
      "340\n"
     ]
    }
   ],
   "source": [
    "numbers = []\n",
    "s = 1100\n",
    "while s != 0:\n",
    "    a = input('Введите целое число')\n",
    "    try:\n",
    "        numbers.append(int(a))\n",
    "    except:\n",
    "        print('Это не целое число')\n",
    "    s = sum(numbers)\n",
    "\n",
    "print(sum(i*i for i in numbers))\n"
   ]
  },
  {
   "cell_type": "markdown",
   "metadata": {},
   "source": [
    "****\n",
    "**Задание 9**\n",
    "\n",
    "Самое время использовать математику. Вы поднимаетесь по лестнице. Количество ступенек в ней = n.\n",
    "\n",
    "На каждом этапе вы можете переступить либо одну, либо две ступеньки. Как много уникальных способов добраться до верха существует?\n",
    "\n",
    "*1<=n<=45*"
   ]
  },
  {
   "cell_type": "code",
   "execution_count": 88,
   "metadata": {},
   "outputs": [
    {
     "name": "stdout",
     "output_type": "stream",
     "text": [
      "24\n"
     ]
    },
    {
     "data": {
      "text/plain": [
       "5"
      ]
     },
     "execution_count": 88,
     "metadata": {},
     "output_type": "execute_result"
    }
   ],
   "source": [
    "# функция вычисляет количество решений уравнения 2*i + 3*j = stair_length\n",
    "def variants(stair_length):\n",
    "    step1 = 2 \n",
    "    step2 = 3\n",
    "    counter = 0\n",
    "    for i in range(stair_length//2 + 1):\n",
    "        for j in range(stair_length//3 +1):\n",
    "            if i*step1 + j*step2 == stair_length:\n",
    "                counter +=1\n",
    "    return counter\n",
    "\n",
    "import random\n",
    "\n",
    "stair = random.randint(1,45)\n",
    "\n",
    "print(stair)\n",
    "variants(stair)"
   ]
  },
  {
   "cell_type": "markdown",
   "metadata": {},
   "source": [
    "****\n",
    "**Задание 10**\n",
    "\n",
    "Напишите функцию, чтобы найти самый длинный префикс в листе, составленном из строк.\n",
    "\n",
    "Если общего префикса нет - верните пустую строку.\n",
    "\n",
    "\n",
    "\n",
    "```\n",
    "Input 1: strs = [\"flower\",\"flow\",\"flight\"]\n",
    "Output 1: \"fl\"\n",
    "\n",
    "Input 2: strs = [\"dog\",\"racecar\",\"car\"]\n",
    "Output 2: \"\"\n",
    "Explanation: There is no common prefix among the input strings."
   ]
  },
  {
   "cell_type": "code",
   "execution_count": 100,
   "metadata": {},
   "outputs": [
    {
     "name": "stdout",
     "output_type": "stream",
     "text": [
      "fl\n",
      "\n",
      "spar\n"
     ]
    }
   ],
   "source": [
    "#функция из списка строк выбирает первые совпадающие знаки и возвращает их\n",
    "def prefix_find(str_list):\n",
    "    l = len(str_list[0])\n",
    "    for s in str_list:\n",
    "        if l > len(s):\n",
    "            l = len(s)\n",
    "\n",
    "    pref =''\n",
    "\n",
    "    for i in range(l):\n",
    "        s_b = str_list[0][i]\n",
    "        t = True\n",
    "        for s in str_list:\n",
    "            if s[i]==s_b:\n",
    "                t = True\n",
    "            else:\n",
    "                t = False\n",
    "        if t:\n",
    "            pref += s[i]\n",
    "\n",
    "    return(pref)\n",
    "\n",
    "\n",
    "print(prefix_find([\"flower\",\"flow\",\"flight\"]))\n",
    "print(prefix_find([\"dog\",\"racecar\",\"car\"]))\n",
    "print(prefix_find([\"spartak\",\"sparta\",\"sparing\"]))\n",
    "\n",
    "    \n"
   ]
  },
  {
   "cell_type": "code",
   "execution_count": null,
   "metadata": {},
   "outputs": [],
   "source": []
  }
 ],
 "metadata": {
  "kernelspec": {
   "display_name": "Python 3.10.7 64-bit",
   "language": "python",
   "name": "python3"
  },
  "language_info": {
   "codemirror_mode": {
    "name": "ipython",
    "version": 3
   },
   "file_extension": ".py",
   "mimetype": "text/x-python",
   "name": "python",
   "nbconvert_exporter": "python",
   "pygments_lexer": "ipython3",
   "version": "3.10.7"
  },
  "orig_nbformat": 4,
  "vscode": {
   "interpreter": {
    "hash": "70ddffd287e3f53fc847710a5642fc603c124499be2b9a6a8a9f1e80f6dec254"
   }
  }
 },
 "nbformat": 4,
 "nbformat_minor": 2
}
