{
 "cells": [
  {
   "cell_type": "markdown",
   "metadata": {},
   "source": [
    "#Reversed integer\n",
    "\n",
    "Вам дано число целого типа ``a``. Вам необходимо написать функцию, которая принимает это число на вход, а на выход выдает целое число, цифры в котором записаны в обратном порядке.\n",
    "\n",
    "\n",
    "**Sample Input 1:**\n",
    "\n",
    "``\n",
    "a = 123\n",
    "``\n",
    "\n",
    "**Sample Output 1:**\n",
    "\n",
    "``321``\n",
    "\n",
    "**Sample Input 2:**\n",
    "\n",
    "``\n",
    "a = 120\n",
    "``\n",
    "\n",
    "**Sample Output 2:**\n",
    "\n",
    "``21``\n",
    "\n",
    "**Sample Input 3:**\n",
    "\n",
    "``\n",
    "-123\n",
    "``\n",
    "\n",
    "**Sample Output 3:**\n",
    "\n",
    "``321``"
   ]
  },
  {
   "cell_type": "code",
   "execution_count": 138,
   "metadata": {},
   "outputs": [
    {
     "name": "stdout",
     "output_type": "stream",
     "text": [
      "321\n",
      "21\n",
      "-321\n",
      "Введен неправильный параметр\n"
     ]
    }
   ],
   "source": [
    "def reverse_number(a: int):\n",
    "    try:\n",
    "        plus_minus = a/abs(a)\n",
    "        a_str = str(abs(a))\n",
    "        a_str_reverse = a_str[::-1]\n",
    "        a_reverse = int(a_str_reverse)\n",
    "        return int(a_reverse * plus_minus)\n",
    "    except:\n",
    "        return 'Введен неправильный параметр'\n",
    "\n",
    "print(reverse_number(123))\n",
    "print(reverse_number(120))\n",
    "print(reverse_number(-123))\n",
    "print(reverse_number(120.57))\n",
    "\n",
    "\n"
   ]
  },
  {
   "cell_type": "markdown",
   "metadata": {},
   "source": [
    "Напишите функцию, которая принимает единственное число ``n: int``. Это число определяет длину стороны квадрата. Функция должна нарисовать квадрат из звездочек, при этом звездочки должны быть только на ребрах квадрата, центр должен быть выколот.\n",
    "\n",
    "**Sample Input 1:**\n",
    "\n",
    "``\n",
    "n = 5\n",
    "``\n",
    "\n",
    "**Sample Output 1:**\n",
    "```\n",
    "* * * * *\n",
    "*       *\n",
    "*       *\n",
    "*       *\n",
    "* * * * *\n",
    "\n",
    "```"
   ]
  },
  {
   "cell_type": "markdown",
   "metadata": {},
   "source": []
  },
  {
   "cell_type": "code",
   "execution_count": 139,
   "metadata": {},
   "outputs": [
    {
     "name": "stdout",
     "output_type": "stream",
     "text": [
      "*  *  *  *  *  *  *  \n",
      "*                 *  \n",
      "*                 *  \n",
      "*                 *  \n",
      "*                 *  \n",
      "*                 *  \n",
      "*  *  *  *  *  *  *  \n"
     ]
    }
   ],
   "source": [
    "def square(a):\n",
    "    for i in range(a):\n",
    "        str_=''\n",
    "        for j in range(a):\n",
    "            condition_ = (i == 0) or (i == a-1) or (j == 0) or (j == a-1)\n",
    "            if condition_:\n",
    "                str_ += '*  '\n",
    "            else:\n",
    "                str_ += '   '\n",
    "        print(str_)\n",
    "\n",
    "square(7)"
   ]
  },
  {
   "cell_type": "markdown",
   "metadata": {},
   "source": [
    "#Пермутации\n",
    "\n",
    "Вам дан массив с целыми числами ``nums``. Напишите функцию, которая принимает на вход данный массив и возвращает все возможные пермутации с данными числами. Возвращать массивы можно в любом порядке.\n",
    "\n",
    "**Sample Input 1:**\n",
    "\n",
    "``\n",
    "nums = [1,2,3]\n",
    "``\n",
    "\n",
    "**Sample Output 1:**\n",
    "\n",
    "``[[1,2,3],[1,3,2],[2,1,3],[2,3,1],[3,1,2],[3,2,1]]``\n",
    "\n",
    "**Sample Input 2:**\n",
    "\n",
    "``\n",
    "nums = [0,1]\n",
    "``\n",
    "\n",
    "**Sample Output 2:**\n",
    "\n",
    "``[[0,1],[1,0]]``\n",
    "\n",
    "**Sample Input 3:**\n",
    "\n",
    "``\n",
    "nums = [1]\n",
    "``\n",
    "\n",
    "**Sample Output 3:**\n",
    "\n",
    "``[[1]]``"
   ]
  },
  {
   "cell_type": "code",
   "execution_count": 140,
   "metadata": {},
   "outputs": [
    {
     "name": "stdout",
     "output_type": "stream",
     "text": [
      "[[1, 2, 3], [1, 3, 2], [2, 1, 3], [2, 3, 1], [3, 1, 2], [3, 2, 1]]\n",
      "[[1]]\n"
     ]
    }
   ],
   "source": [
    "# вариант 1\n",
    "import itertools\n",
    "\n",
    "def permutations(a):\n",
    "    l = list(itertools.permutations(a))\n",
    "    perm_ = [list(x) for x in l]\n",
    "    return perm_\n",
    "\n",
    "print(permutations([1, 2, 3]))\n",
    "print(permutations([1]))"
   ]
  },
  {
   "cell_type": "code",
   "execution_count": 141,
   "metadata": {},
   "outputs": [
    {
     "name": "stdout",
     "output_type": "stream",
     "text": [
      "[[1, 2, 3], [2, 1, 3], [2, 3, 1], [1, 3, 2], [3, 1, 2], [3, 2, 1]]\n",
      "[[1]]\n"
     ]
    }
   ],
   "source": [
    "# вариант 2\n",
    "import math\n",
    "import numpy as np\n",
    "\n",
    "def permutations2(a):\n",
    "    length = len(a)\n",
    "    variants_amount = math.factorial(length)\n",
    "\n",
    "    j = 0\n",
    "    perm1 = []\n",
    "\n",
    "    for i in range(variants_amount):\n",
    "        b = a.copy()\n",
    "        perm1.append(b)\n",
    "\n",
    "        if j < length - 1:\n",
    "            a[j],a[j+1] = a[j+1], a[j]\n",
    "        else:\n",
    "            a[j], a[0] = a[0], a[j]\n",
    "\n",
    "        j = j+1 if j < length-1 else 0\n",
    "\n",
    "    return perm1\n",
    "        \n",
    "print(permutations2([1, 2, 3]))\n",
    "print(permutations2([1]))"
   ]
  },
  {
   "cell_type": "markdown",
   "metadata": {},
   "source": [
    "### Почти двойной факториал\n",
    "Дано натуральное $N \\leqslant 100$.  Выведите произведение всех чётных натуральных чисел, не превосходящих $N$."
   ]
  },
  {
   "cell_type": "code",
   "execution_count": 142,
   "metadata": {},
   "outputs": [
    {
     "name": "stdout",
     "output_type": "stream",
     "text": [
      "1961990553600\n"
     ]
    }
   ],
   "source": [
    "from numpy import double\n",
    "\n",
    "\n",
    "def almost_double_factorial(n):\n",
    "    f = 1\n",
    "    for i in range(1,n+1):\n",
    "        if i%2 == 0:\n",
    "            f *= i\n",
    "    return f\n",
    "\n",
    "N = 25\n",
    "#YOUR CODE\n",
    "N_double_fact = almost_double_factorial(N)\n",
    "print(N_double_fact)\n",
    "\n",
    "assert N_double_fact == 1961990553600, \"Something is wrong! Please try again\"\n",
    "\n",
    "N = 100\n",
    "N_double_fact = almost_double_factorial(N)\n",
    "assert N_double_fact == 34243224702511976248246432895208185975118675053719198827915654463488000000000000, \"Something is wrong! Please try again\""
   ]
  },
  {
   "cell_type": "markdown",
   "metadata": {},
   "source": [
    "### Хитрая сортировка\n",
    "\n",
    "Пусть у нас есть следующий список, в котором элементы -- tuple из строк:\n",
    "\n",
    "``items = [('one', 'two'), ('three', 'four'), ('five', 'six'), ('string', 'a')]``\n",
    "\n",
    "Мы хотим отсортировать этот список по последней букве второго элемента каждого ``tuple``, т.е. получить такой список:\n",
    "\n",
    "``sorted_items = [('string', 'a'), ('one', 'two'), ('three', 'four'), ('five', 'six')]``.\n",
    "Что нужно вставить вместо \"###\" в следующем выражении, чтобы получить сортировку?\n",
    "\n",
    "``sorted_items = sorted(items, key=lambda x: ###)``"
   ]
  },
  {
   "cell_type": "code",
   "execution_count": 143,
   "metadata": {},
   "outputs": [],
   "source": [
    "items = [('one', 'two'), ('three', 'four'), ('five', 'six'), ('string', 'a')]\n",
    "\n",
    "sorted_items = sorted(items, key=lambda x: x[1][-1])\n",
    "                      \n",
    "assert sorted_items == [('string', 'a'), ('one', 'two'), ('three', 'four'), ('five', 'six')], \\\n",
    "\"Something is wrong! Please try again\""
   ]
  },
  {
   "cell_type": "markdown",
   "metadata": {},
   "source": [
    "### Еще строки\n",
    "\n",
    "Вашей программе на вход подаются три строки ``s, a, b``, состоящие из строчных латинских букв.\n",
    "За одну операцию вы можете заменить все вхождения строки ``a`` в строку ``s`` на строку ``b``.\n",
    "\n",
    "Например, ``s = \"abab\", a = \"ab\", b = \"ba\"``, тогда после выполнения одной операции строка ``s`` перейдет в строку ``\"baba\"``, после выполнения двух и операций – в строку ``\"bbaa\"``, и дальнейшие операции не будут изменять строку ``s``.\n",
    "\n",
    "Необходимо узнать, после какого минимального количества операций в строке ``s`` не останется вхождений строки ``a``. Если операций потребуется более 1000, выведите ``Impossible``.\n",
    "\n",
    "Выведите одно число – минимальное число операций, после применения которых в строке ``s`` не останется вхождений строки ``a``, или ``Impossible``, если операций потребуется более 1000.\n",
    "\n",
    "**Sample Input 1:**\n",
    "\n",
    "``\n",
    "ababa\n",
    "a\n",
    "b\n",
    "``\n",
    "\n",
    "**Sample Output 1:**\n",
    "\n",
    "``1``\n",
    "\n",
    "**Sample Input 2:**\n",
    "\n",
    "``ababa\n",
    "b\n",
    "a``\n",
    "\n",
    "**Sample Output 2:**\n",
    "\n",
    "``1``\n",
    "\n",
    "**Sample Input 3:**\n",
    "\n",
    "``ababa\n",
    "c\n",
    "c``\n",
    "\n",
    "**Sample Output 3:**\n",
    "\n",
    "``0``\n",
    "\n",
    "**Sample Input 4:**\n",
    "\n",
    "``ababac\n",
    "c\n",
    "c``\n",
    "\n",
    "**Sample Output 4:**\n",
    "\n",
    "``Impossible``\n"
   ]
  },
  {
   "cell_type": "code",
   "execution_count": 144,
   "metadata": {},
   "outputs": [
    {
     "name": "stdout",
     "output_type": "stream",
     "text": [
      "3\n",
      "1\n",
      "Impossible\n",
      "Impossible\n"
     ]
    }
   ],
   "source": [
    "def my_func(s,a,b):\n",
    "    i = 0\n",
    "    if a == b: \n",
    "        return('Impossible')\n",
    "    while True:\n",
    "        s1 = s.replace(a,b)\n",
    "        if s1 == s:\n",
    "            break\n",
    "        else:\n",
    "            i += 1\n",
    "            s = s1\n",
    "            if i > 1000:\n",
    "                return ('Impossible')\n",
    "    #YOUR CODE\n",
    "    return i\n",
    "\n",
    "print(my_func('abababa', 'ab', 'ba'))\n",
    "print(my_func('abababa', 'a', 'b'))\n",
    "print(my_func('abababa', 'd', 'd'))\n",
    "\n",
    "s3 = 'abababab'\n",
    "for x in range (10):\n",
    "    s3+=s3\n",
    "print(my_func(s3, 'ab', 'ba'))"
   ]
  },
  {
   "cell_type": "markdown",
   "metadata": {},
   "source": [
    "### Создание массивов\n",
    "Дан массив $A[0,\\ldots,N-1]$. Напишите функцию, принимающую один обязательный аргумент A и один опциональный аргумент ``erase``, по умолчанию равный 1. Возвратите массив $B[0,\\ldots, N-1]$, где $B_i = A_0 + \\ldots + A_{i}$ --- массив частичных сумм массива $A$, предварительно удалив из массива $B$ все элементы, равные erase. Постарайтесь сделать это за линейное время без использования Numpy."
   ]
  },
  {
   "cell_type": "code",
   "execution_count": 145,
   "metadata": {},
   "outputs": [],
   "source": [
    "def cumsum_and_erase(A, erase=1):\n",
    "    B = []\n",
    "    s = 0\n",
    "    for a in A:\n",
    "        s += a\n",
    "        B.append(s)\n",
    "\n",
    "    try:\n",
    "        while True:\n",
    "            B.remove(erase)\n",
    "    except:\n",
    "        return B\n",
    "\n",
    "A = [5, 1, 4, 5, 14]\n",
    "B = cumsum_and_erase(A, erase=10)\n",
    "\n",
    "assert B == [5, 6, 15, 29], \"Something is wrong! Please try again\""
   ]
  },
  {
   "cell_type": "markdown",
   "metadata": {},
   "source": [
    "### Обработка текста\n",
    "Дан список текстов, слова в которых разделены пробелами (можно считать, что знаков препинания нет). Часть слов является \"мусорными\": в них присутствуют цифры и спецсимволы. Отфильтруйте такие слова из каждого текста. Используйте функции ``str.split``, ``str.isalpha``, ``str.join``, а также [генератор filter](http://pythonicway.com/python-functinal-programming)."
   ]
  },
  {
   "cell_type": "code",
   "execution_count": 146,
   "metadata": {},
   "outputs": [],
   "source": [
    "sentences = ['1 thousand devils', 'My name is 9Pasha', 'Room #125 costs $100']\n",
    "\n",
    "def process(sentences):\n",
    "    result = []\n",
    "    for sentence in sentences:\n",
    "        words = sentence.split()\n",
    "        new_words = []\n",
    "        for word in words:\n",
    "            if word.isalpha():\n",
    "                new_words.append(word)\n",
    "            new_sentence = ' '.join(new_words)\n",
    "        result.append(new_sentence)\n",
    "    \n",
    "    return result\n",
    "\n",
    "assert process(sentences) == ['thousand devils', 'My name is', 'Room costs'], \\\n",
    "\"Something is wrong! Please try again\""
   ]
  },
  {
   "cell_type": "markdown",
   "metadata": {},
   "source": [
    "#Расстояние Хэмминга\n",
    "\n",
    "Вам даны две строки, ``a`` и ``b`` одинаковой длины. Необходимо посчитать расстояние Хэмминга между ними, которое определяется как количество символов, которые не совпадают между двумя строками в одинаковой позиции.\n",
    "\n",
    "**Sample Input 1:**\n",
    "\n",
    "```\n",
    "a = 'AGCT'\n",
    "b = 'ACGT'\n",
    "hamming(a, b)\n",
    "```\n",
    "\n",
    "**Sample Output 1:**\n",
    "\n",
    "``2``"
   ]
  },
  {
   "cell_type": "code",
   "execution_count": 147,
   "metadata": {},
   "outputs": [
    {
     "data": {
      "text/plain": [
       "2"
      ]
     },
     "execution_count": 147,
     "metadata": {},
     "output_type": "execute_result"
    }
   ],
   "source": [
    "#вариант 1\n",
    "\n",
    "def hamming_distance(a,b):\n",
    "    counter = 0\n",
    "    for i in range(len(a)):\n",
    "        if a[i] != b[i]:\n",
    "            counter += 1\n",
    "    return counter\n",
    "\n",
    "a = 'AGCT'\n",
    "b = 'ACGT'\n",
    "hamming_distance(a,b)"
   ]
  },
  {
   "cell_type": "code",
   "execution_count": 148,
   "metadata": {},
   "outputs": [
    {
     "data": {
      "text/plain": [
       "2"
      ]
     },
     "execution_count": 148,
     "metadata": {},
     "output_type": "execute_result"
    }
   ],
   "source": [
    "# вариант 2\n",
    "\n",
    "def hamming_distance2(x, y):\n",
    "    from scipy.spatial.distance import hamming    \n",
    "    return(int(hamming(list(x),list(y)) * len(x)))\n",
    "\n",
    "a = 'AGCT'\n",
    "b = 'ACGT'\n",
    "\n",
    "hamming_distance2(a, b)"
   ]
  },
  {
   "cell_type": "code",
   "execution_count": 149,
   "metadata": {},
   "outputs": [],
   "source": [
    "import numpy as np\n",
    "import random\n",
    "import scipy.stats as sps"
   ]
  },
  {
   "cell_type": "markdown",
   "metadata": {},
   "source": [
    "### Задание 1\n",
    "В первой задаче вам предлагается перемножить две квадратные матрицы двумя способами -- без использования пакета ***numpy*** и с ним."
   ]
  },
  {
   "cell_type": "code",
   "execution_count": 150,
   "metadata": {},
   "outputs": [
    {
     "name": "stdout",
     "output_type": "stream",
     "text": [
      "[[0.55418758 0.49873482 0.27760181 ... 0.52352488 0.37797537 0.13589479]\n",
      " [0.5850923  0.44421771 0.82687115 ... 0.30896647 0.16081922 0.3550787 ]\n",
      " [0.05421762 0.15279888 0.26625629 ... 0.77422738 0.56674739 0.97056437]\n",
      " ...\n",
      " [0.38210754 0.79323941 0.30216046 ... 0.40525183 0.34688484 0.74349589]\n",
      " [0.17843169 0.20516674 0.77147754 ... 0.35518282 0.54765086 0.23516361]\n",
      " [0.67148754 0.8914312  0.92123753 ... 0.37991698 0.91847242 0.89631718]]\n",
      "[[0.15566273 0.43905531 0.1174226  ... 0.71668446 0.00445498 0.18707718]\n",
      " [0.29170479 0.69023876 0.48394637 ... 0.02493352 0.30849277 0.09585877]\n",
      " [0.84217853 0.71220186 0.71843302 ... 0.99529777 0.90608823 0.72401978]\n",
      " ...\n",
      " [0.05786956 0.4333151  0.68939748 ... 0.86168342 0.26289719 0.93610153]\n",
      " [0.35496689 0.95875614 0.92671161 ... 0.42904197 0.94583014 0.36829932]\n",
      " [0.73519843 0.92884101 0.32148408 ... 0.85012788 0.8686105  0.44867655]]\n"
     ]
    }
   ],
   "source": [
    "# Для генерации матриц используем фукнцию random -- она используется для генерации случайных объектов \n",
    "# функция sample создает случайную выборку. В качестве аргумента ей передается кортеж (i,j),  \n",
    "# здесь i -- число строк, j -- число столбцов.\n",
    "a = np.random.sample((100, 100))\n",
    "b = np.random.sample((100, 100))\n",
    "\n",
    "# Выведите размерность (ранг) каждой матрицы с помощью функции ndim.\n",
    "# Используйте функцию shape, что она вывела?\n",
    "\n",
    "# ========\n",
    "# Ваш код здесь\n",
    "# ========\n",
    "print(a)\n",
    "print(b)"
   ]
  },
  {
   "cell_type": "code",
   "execution_count": 156,
   "metadata": {},
   "outputs": [],
   "source": [
    "def mult(a, b):\n",
    "    \n",
    "    result =[]\n",
    "    for i in range(len(a)):\n",
    "        r = []\n",
    "        for j in range(len(b[0])):\n",
    "            r.append(0)\n",
    "        result.append(r)\n",
    "\n",
    "    for m in range(len(a)): \n",
    "        for n in range(len(b[0])): \n",
    "            for o in range(len(b)): \n",
    "                result[m][n] += a[m][o] * b[o][n]\n",
    "\n",
    "    return result\n",
    "    \"\"\"  \n",
    "    a: list of \"size\" lists, each contains \"size\" floats --- первая матрица-аргумент\n",
    "    b: list of \"size\" lists, each contains \"size\" floats --- вторая матрица-аргумент\n",
    "    return c: list of \"size\" lists, each contains \"size\" floats --- матрица, являющаяся результатом умножения матриц a и b\n",
    "    \n",
    "    Функция принимает на вход две матрицы: a и b размерностью size x size\n",
    "    Возвращает матрицу их произведения a * b = c \n",
    "\n",
    "    Реализуйте умножение матриц без использования функций из пакета numpy (может помочь функция zip)\n",
    "    \"\"\""
   ]
  },
  {
   "cell_type": "code",
   "execution_count": 152,
   "metadata": {},
   "outputs": [],
   "source": [
    "def np_mult(a, b):\n",
    "    return np.dot(a,b)\n",
    "    \"\"\"  \n",
    "    a: np.array[size, size]             --- первая матрица-аргумент\n",
    "    b: np.array[size, size] --- вторая матрица-аргумент\n",
    "    return c: np.array[size, size]       --- матрица, являющаяся результатом умножения матриц a и b\n",
    "    \n",
    "    Функция принимает на вход две матрицы: a и b размерностью size x size\n",
    "    Возвращает матрицу их произведения a * b = c \n",
    "\n",
    "    Реализуйте умножение матриц, используя функции из пакета numpy\n",
    "    \"\"\"\n",
    "    pass"
   ]
  },
  {
   "cell_type": "code",
   "execution_count": 157,
   "metadata": {},
   "outputs": [
    {
     "name": "stdout",
     "output_type": "stream",
     "text": [
      "CPU times: total: 1 s\n",
      "Wall time: 1.04 s\n"
     ]
    }
   ],
   "source": [
    "%%time\n",
    "# засечем время работы функции без NumPy\n",
    "M1 = mult(a, b)"
   ]
  },
  {
   "cell_type": "code",
   "execution_count": 154,
   "metadata": {},
   "outputs": [
    {
     "name": "stdout",
     "output_type": "stream",
     "text": [
      "CPU times: total: 0 ns\n",
      "Wall time: 7.98 ms\n"
     ]
    }
   ],
   "source": [
    "%%time\n",
    "# засечем время работы функции с NumPy\n",
    "M2 = np_mult(a, b)"
   ]
  },
  {
   "cell_type": "code",
   "execution_count": 158,
   "metadata": {},
   "outputs": [],
   "source": [
    "# проверим корректность\n",
    "assert np.allclose(np.array(M1), M2)"
   ]
  }
 ],
 "metadata": {
  "kernelspec": {
   "display_name": "Python 3.10.7 64-bit",
   "language": "python",
   "name": "python3"
  },
  "language_info": {
   "codemirror_mode": {
    "name": "ipython",
    "version": 3
   },
   "file_extension": ".py",
   "mimetype": "text/x-python",
   "name": "python",
   "nbconvert_exporter": "python",
   "pygments_lexer": "ipython3",
   "version": "3.10.7"
  },
  "orig_nbformat": 4,
  "vscode": {
   "interpreter": {
    "hash": "70ddffd287e3f53fc847710a5642fc603c124499be2b9a6a8a9f1e80f6dec254"
   }
  }
 },
 "nbformat": 4,
 "nbformat_minor": 2
}
